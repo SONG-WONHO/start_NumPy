{
 "cells": [
  {
   "cell_type": "markdown",
   "metadata": {},
   "source": [
    "# Numpy Standard Data Type\n",
    "---\n",
    "- numpy.dtype(obj, align = False, copy = False)\n",
    "---\n",
    "- b: boolean\n",
    "- i: integer (int8, int16, int32, int64)\n",
    "- u: unsigned integer (uint8, uint16, uint32, uint64)\n",
    "- f: float (float16, float32, float64)\n",
    "- c: complex (complex64, complex128)\n",
    "- o: objects\n",
    "- S: string\n",
    "- U: unicode\n",
    "- \\>: big endian\n",
    "- <: little endian\n",
    "---"
   ]
  },
  {
   "cell_type": "markdown",
   "metadata": {},
   "source": [
    "#### loads numpy module"
   ]
  },
  {
   "cell_type": "code",
   "execution_count": 1,
   "metadata": {},
   "outputs": [],
   "source": [
    "import numpy as np"
   ]
  },
  {
   "cell_type": "markdown",
   "metadata": {},
   "source": [
    "#### int type"
   ]
  },
  {
   "cell_type": "code",
   "execution_count": 2,
   "metadata": {},
   "outputs": [
    {
     "name": "stdout",
     "output_type": "stream",
     "text": [
      "int8 \n",
      "\n"
     ]
    }
   ],
   "source": [
    "# int8, int16, int32, int64 = i1, i2, i4, i8\n",
    "dt = np.dtype('i1')\n",
    "print(dt, '\\n')"
   ]
  },
  {
   "cell_type": "markdown",
   "metadata": {},
   "source": [
    "#### float type"
   ]
  },
  {
   "cell_type": "code",
   "execution_count": 3,
   "metadata": {},
   "outputs": [
    {
     "name": "stdout",
     "output_type": "stream",
     "text": [
      "float64 \n",
      "\n"
     ]
    }
   ],
   "source": [
    "# float16, float32, float64 = f2, f4, f8\n",
    "dt = np.dtype('f8')\n",
    "print(dt, '\\n')"
   ]
  },
  {
   "cell_type": "markdown",
   "metadata": {},
   "source": [
    "#### string & unicode type"
   ]
  },
  {
   "cell_type": "code",
   "execution_count": 4,
   "metadata": {},
   "outputs": [
    {
     "name": "stdout",
     "output_type": "stream",
     "text": [
      "|S10 \n",
      "\n",
      "<U10 \n",
      "\n"
     ]
    }
   ],
   "source": [
    "# string type\n",
    "dt_s = np.dtype('S10')\n",
    "print(dt_s, '\\n')\n",
    "\n",
    "# unicode type\n",
    "dt_u = np.dtype('U10')\n",
    "print(dt_u, '\\n')"
   ]
  },
  {
   "cell_type": "markdown",
   "metadata": {},
   "source": [
    "#### big endian & little endian"
   ]
  },
  {
   "cell_type": "code",
   "execution_count": 5,
   "metadata": {},
   "outputs": [
    {
     "name": "stdout",
     "output_type": "stream",
     "text": [
      ">i8 \n",
      "\n",
      "int64 \n",
      "\n"
     ]
    }
   ],
   "source": [
    "# big endian\n",
    "dt_big = np.dtype('>i8')\n",
    "print(dt_big, '\\n')\n",
    "\n",
    "# little endian - little endian deafualt (intel line cpu)\n",
    "dt_little = np.dtype('<i8')\n",
    "print(dt_little, '\\n')"
   ]
  },
  {
   "cell_type": "markdown",
   "metadata": {},
   "source": [
    "#### structured data type - not used often because pandas library"
   ]
  },
  {
   "cell_type": "code",
   "execution_count": 6,
   "metadata": {},
   "outputs": [
    {
     "name": "stdout",
     "output_type": "stream",
     "text": [
      "[('name', 'S20'), ('age', 'i1'), ('student_num', '<i2')] \n",
      "\n",
      "[(b'max', 20, 1000) (b'tim', 21, 1001) (b'herry', 20, 1002)] \n",
      "\n",
      "[b'max' b'tim' b'herry']\n",
      "[20 21 20]\n",
      "[1000 1001 1002]\n"
     ]
    }
   ],
   "source": [
    "dt = np.dtype([('name', 'S20'), ('age', 'i1'), ('student_num', 'i2')])\n",
    "print(dt, '\\n')\n",
    "\n",
    "sample = np.array([('max', 20, 1000), ('tim', 21, 1001), ('herry', 20, 1002)], dtype=dt)\n",
    "print(sample, '\\n')\n",
    "\n",
    "print(sample['name'])\n",
    "print(sample['age'])\n",
    "print(sample['student_num'])"
   ]
  }
 ],
 "metadata": {
  "kernelspec": {
   "display_name": "Python 3",
   "language": "python",
   "name": "python3"
  },
  "language_info": {
   "codemirror_mode": {
    "name": "ipython",
    "version": 3
   },
   "file_extension": ".py",
   "mimetype": "text/x-python",
   "name": "python",
   "nbconvert_exporter": "python",
   "pygments_lexer": "ipython3",
   "version": "3.6.7"
  }
 },
 "nbformat": 4,
 "nbformat_minor": 2
}
