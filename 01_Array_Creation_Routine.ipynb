{
 "cells": [
  {
   "cell_type": "markdown",
   "metadata": {},
   "source": [
    "# Array Creation Routine\n",
    "---\n",
    "- numpy.array(object, dtype = None, copy = True, order = None, subok = False, ndmin = 0)\n",
    "- numpy.zeros(shape, dtype = float, order = 'C')\n",
    "- numpy.ones(shape, dtype = None, order = 'C')\n",
    "- numpy.empty(shape, dtype = float, order = 'C')\n",
    "- numpy.full(shape, fill_value, dtype = None, order = 'C')\n",
    "- numpy.arange(start = 0, stop, step = 1, dtype = None)\n",
    "- numpy.linspace(start = 0, stop, num = 50, endpoint = True, retstep = False, dtype = None)\n",
    "- numpy.logspace(start = 0, stop, num = 50, endpoint = True, base = 10, dtype = None)\n",
    "- numpy.random.random(size = None)\n",
    "- numpy.random.normal(loc = 0.0, scale = 1.0, size = None)\n",
    "- numpy.random.randint(low, high = None, size = None, dtype = 'int')\n",
    "---"
   ]
  },
  {
   "cell_type": "markdown",
   "metadata": {},
   "source": [
    "##### loads numpy module"
   ]
  },
  {
   "cell_type": "code",
   "execution_count": 27,
   "metadata": {},
   "outputs": [],
   "source": [
    "import numpy as np"
   ]
  },
  {
   "cell_type": "markdown",
   "metadata": {},
   "source": [
    "##### create numpy arrary from list and tuple object"
   ]
  },
  {
   "cell_type": "code",
   "execution_count": 47,
   "metadata": {
    "scrolled": true
   },
   "outputs": [
    {
     "name": "stdout",
     "output_type": "stream",
     "text": [
      "[ 1  2  3  4  5  6  7  8  9 10]\n",
      "[ 1.  2.  3.  4.  5.  6.  7.  8.  9. 10.]\n",
      "<class 'numpy.ndarray'>\n"
     ]
    }
   ],
   "source": [
    "# list to ndarray\n",
    "\n",
    "# sample list\n",
    "sample = [1, 2, 3, 4, 5, 6, 7, 8, 9, 10]\n",
    "\n",
    "# list to numpy object\n",
    "print(np.array(sample))\n",
    "\n",
    "# set data type float32\n",
    "print(np.array(sample, dtype = 'float32'))\n",
    "\n",
    "# check type\n",
    "print(type(np.array(sample)))"
   ]
  },
  {
   "cell_type": "code",
   "execution_count": 49,
   "metadata": {},
   "outputs": [
    {
     "name": "stdout",
     "output_type": "stream",
     "text": [
      "[ 1  2  3  4  5  6  7  8  9 10]\n",
      "[ 1.  2.  3.  4.  5.  6.  7.  8.  9. 10.]\n",
      "<class 'numpy.ndarray'>\n"
     ]
    }
   ],
   "source": [
    "# tuple to ndarray\n",
    "\n",
    "# sample tuple\n",
    "sample = (1, 2, 3, 4, 5, 6, 7, 8, 9, 10)\n",
    "\n",
    "# tuple to numpy object\n",
    "print(np.array(sample))\n",
    "\n",
    "# set data type float32\n",
    "print(np.array(sample, dtype = 'float32'))\n",
    "\n",
    "# check type\n",
    "print(type(np.array(sample)))"
   ]
  },
  {
   "cell_type": "code",
   "execution_count": null,
   "metadata": {},
   "outputs": [],
   "source": []
  }
 ],
 "metadata": {
  "kernelspec": {
   "display_name": "Python 3",
   "language": "python",
   "name": "python3"
  },
  "language_info": {
   "codemirror_mode": {
    "name": "ipython",
    "version": 3
   },
   "file_extension": ".py",
   "mimetype": "text/x-python",
   "name": "python",
   "nbconvert_exporter": "python",
   "pygments_lexer": "ipython3",
   "version": "3.6.7"
  }
 },
 "nbformat": 4,
 "nbformat_minor": 2
}
