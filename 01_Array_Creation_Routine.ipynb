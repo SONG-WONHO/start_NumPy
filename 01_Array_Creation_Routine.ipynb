{
 "cells": [
  {
   "cell_type": "markdown",
   "metadata": {},
   "source": [
    "# Array Creation Routine\n",
    "---\n",
    "- numpy.array(object, dtype = None, copy = True, order = None, subok = False, ndmin = 0)\n",
    "- numpy.zeros(shape, dtype = float, order = 'C')\n",
    "- numpy.ones(shape, dtype = None, order = 'C')\n",
    "- numpy.empty(shape, dtype = float, order = 'C')\n",
    "- numpy.full(shape, fill_value, dtype = None, order = 'C')\n",
    "- numpy.arange(start = 0, stop, step = 1, dtype = None)\n",
    "- numpy.linspace(start = 0, stop, num = 50, endpoint = True, retstep = False, dtype = None)\n",
    "- numpy.logspace(start = 0, stop, num = 50, endpoint = True, base = 10, dtype = None)\n",
    "- numpy.random.random(size = None)\n",
    "- numpy.random.normal(loc = 0.0, scale = 1.0, size = None)\n",
    "- numpy.random.randint(low, high = None, size = None, dtype = 'int')\n",
    "---"
   ]
  },
  {
   "cell_type": "markdown",
   "metadata": {},
   "source": [
    "#### loads numpy module"
   ]
  },
  {
   "cell_type": "code",
   "execution_count": 1,
   "metadata": {},
   "outputs": [],
   "source": [
    "import numpy as np"
   ]
  },
  {
   "cell_type": "markdown",
   "metadata": {},
   "source": [
    "#### create numpy arrary from list and tuple object - array"
   ]
  },
  {
   "cell_type": "code",
   "execution_count": 2,
   "metadata": {
    "scrolled": true
   },
   "outputs": [
    {
     "name": "stdout",
     "output_type": "stream",
     "text": [
      "[ 1  2  3  4  5  6  7  8  9 10] \n",
      "\n",
      "[ 1.  2.  3.  4.  5.  6.  7.  8.  9. 10.] \n",
      "\n",
      "<class 'numpy.ndarray'> \n",
      "\n"
     ]
    }
   ],
   "source": [
    "# list to ndarray\n",
    "\n",
    "# sample list\n",
    "sample = [1, 2, 3, 4, 5, 6, 7, 8, 9, 10]\n",
    "\n",
    "# list to numpy array\n",
    "print(np.array(sample), '\\n')\n",
    "\n",
    "# set data type float32\n",
    "print(np.array(sample, dtype = 'float32'), '\\n')\n",
    "\n",
    "# check type\n",
    "print(type(np.array(sample)), '\\n')"
   ]
  },
  {
   "cell_type": "code",
   "execution_count": 3,
   "metadata": {},
   "outputs": [
    {
     "name": "stdout",
     "output_type": "stream",
     "text": [
      "[ 1  2  3  4  5  6  7  8  9 10] \n",
      "\n",
      "[ 1.  2.  3.  4.  5.  6.  7.  8.  9. 10.] \n",
      "\n",
      "<class 'numpy.ndarray'> \n",
      "\n"
     ]
    }
   ],
   "source": [
    "# tuple to ndarray\n",
    "\n",
    "# sample tuple\n",
    "sample = (1, 2, 3, 4, 5, 6, 7, 8, 9, 10)\n",
    "\n",
    "# tuple to numpy array\n",
    "print(np.array(sample), '\\n')\n",
    "\n",
    "# set data type float32\n",
    "print(np.array(sample, dtype = 'float32'), '\\n')\n",
    "\n",
    "# check type\n",
    "print(type(np.array(sample)), '\\n')"
   ]
  },
  {
   "cell_type": "markdown",
   "metadata": {},
   "source": [
    "#### create numpy array - zeros, ones, empty, full"
   ]
  },
  {
   "cell_type": "code",
   "execution_count": 4,
   "metadata": {
    "scrolled": true
   },
   "outputs": [
    {
     "name": "stdout",
     "output_type": "stream",
     "text": [
      "[[0. 0. 0.]\n",
      " [0. 0. 0.]] \n",
      "\n"
     ]
    }
   ],
   "source": [
    "# create numpy array filled with zeros\n",
    "print(np.zeros((2,3)), '\\n') "
   ]
  },
  {
   "cell_type": "code",
   "execution_count": 5,
   "metadata": {},
   "outputs": [
    {
     "name": "stdout",
     "output_type": "stream",
     "text": [
      "[[1. 1.]\n",
      " [1. 1.]\n",
      " [1. 1.]] \n",
      "\n"
     ]
    }
   ],
   "source": [
    "# create numpy array filled with ones\n",
    "print(np.ones((3,2)), '\\n')"
   ]
  },
  {
   "cell_type": "code",
   "execution_count": 6,
   "metadata": {
    "scrolled": false
   },
   "outputs": [
    {
     "name": "stdout",
     "output_type": "stream",
     "text": [
      "[[5.81135006e-312 2.50170012e+267]\n",
      " [1.99914751e+161 5.03734574e+180]] \n",
      "\n"
     ]
    }
   ],
   "source": [
    "# create empty numpy array\n",
    "print(np.empty((2,2)), '\\n')"
   ]
  },
  {
   "cell_type": "code",
   "execution_count": 7,
   "metadata": {},
   "outputs": [
    {
     "name": "stdout",
     "output_type": "stream",
     "text": [
      "[[20 20 20]\n",
      " [20 20 20]] \n",
      "\n"
     ]
    }
   ],
   "source": [
    "# create numpy array with speceific number\n",
    "print(np.full((2,3), 20), '\\n')"
   ]
  },
  {
   "cell_type": "markdown",
   "metadata": {},
   "source": [
    "#### create numpy array from range - arange, linspace, logspace"
   ]
  },
  {
   "cell_type": "code",
   "execution_count": 8,
   "metadata": {},
   "outputs": [
    {
     "name": "stdout",
     "output_type": "stream",
     "text": [
      "[1 2 3 4 5 6 7 8 9] \n",
      "\n",
      "[1 3 5 7 9] \n",
      "\n"
     ]
    }
   ],
   "source": [
    "# arnage\n",
    "print(np.arange(1, 10), '\\n')\n",
    "\n",
    "# step = 2\n",
    "print(np.arange(1, 10, 2), '\\n')"
   ]
  },
  {
   "cell_type": "code",
   "execution_count": 9,
   "metadata": {},
   "outputs": [
    {
     "name": "stdout",
     "output_type": "stream",
     "text": [
      "[  0.  25.  50.  75. 100.] \n",
      "\n",
      "[ 0. 10. 20. 30. 40. 50. 60. 70. 80. 90.] \n",
      "\n"
     ]
    }
   ],
   "source": [
    "# linspace\n",
    "\n",
    "# num = 5\n",
    "print(np.linspace(0, 100, 5), '\\n')\n",
    "\n",
    "# num = 10, endpoint = false\n",
    "print(np.linspace(0, 100, 10, endpoint = False), '\\n')"
   ]
  },
  {
   "cell_type": "code",
   "execution_count": 10,
   "metadata": {},
   "outputs": [
    {
     "name": "stdout",
     "output_type": "stream",
     "text": [
      "[ 1.          1.77827941  3.16227766  5.62341325 10.        ] \n",
      "\n",
      "[1.         1.18920712 1.41421356 1.68179283 2.        ] \n",
      "\n"
     ]
    }
   ],
   "source": [
    "# logspace\n",
    "\n",
    "# num = 5\n",
    "print(np.logspace(0, 1, 5), '\\n')\n",
    "\n",
    "# base = 2\n",
    "print(np.logspace(0, 1, 5, base = 2), '\\n')"
   ]
  },
  {
   "cell_type": "markdown",
   "metadata": {},
   "source": [
    "#### create numpy array from random number - random, normal, randint"
   ]
  },
  {
   "cell_type": "code",
   "execution_count": 11,
   "metadata": {},
   "outputs": [
    {
     "name": "stdout",
     "output_type": "stream",
     "text": [
      "[0.5488135  0.71518937 0.60276338 0.54488318 0.4236548 ] \n",
      "\n"
     ]
    }
   ],
   "source": [
    "# random.random\n",
    "\n",
    "# set seed\n",
    "np.random.seed(0)\n",
    "\n",
    "# size = 5\n",
    "print(np.random.random(5), '\\n')"
   ]
  },
  {
   "cell_type": "code",
   "execution_count": 12,
   "metadata": {},
   "outputs": [
    {
     "name": "stdout",
     "output_type": "stream",
     "text": [
      "[[ 1.76405235  0.40015721  0.97873798]\n",
      " [ 2.2408932   1.86755799 -0.97727788]] \n",
      "\n"
     ]
    }
   ],
   "source": [
    "# random.normal\n",
    "\n",
    "# set seed\n",
    "np.random.seed(0)\n",
    "\n",
    "# mean = 0, std = 1, size = (2,3)\n",
    "print(np.random.normal(0, 1, (2,3)), '\\n')"
   ]
  },
  {
   "cell_type": "code",
   "execution_count": 13,
   "metadata": {},
   "outputs": [
    {
     "name": "stdout",
     "output_type": "stream",
     "text": [
      "[6 1 4 4 8 4 6 3 5 8] \n",
      "\n",
      "[[7 9 9]\n",
      " [2 7 8]] \n",
      "\n"
     ]
    }
   ],
   "source": [
    "# random.randint\n",
    "\n",
    "# set seed\n",
    "np.random.seed(0)\n",
    "\n",
    "# low_num = 1, high_num = 10, count = 10\n",
    "print(np.random.randint(1, 10, 10), '\\n')\n",
    "\n",
    "# low_num = 1, high_num = 10, size = (2,3)\n",
    "print(np.random.randint(1, 10, (2, 3)), '\\n')"
   ]
  }
 ],
 "metadata": {
  "kernelspec": {
   "display_name": "Python 3",
   "language": "python",
   "name": "python3"
  },
  "language_info": {
   "codemirror_mode": {
    "name": "ipython",
    "version": 3
   },
   "file_extension": ".py",
   "mimetype": "text/x-python",
   "name": "python",
   "nbconvert_exporter": "python",
   "pygments_lexer": "ipython3",
   "version": "3.6.7"
  }
 },
 "nbformat": 4,
 "nbformat_minor": 2
}
