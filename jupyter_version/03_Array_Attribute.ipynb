{
 "cells": [
  {
   "cell_type": "markdown",
   "metadata": {},
   "source": [
    "# Array Attribute\n",
    "\n",
    "---\n",
    "\n",
    "##### array attribute\n",
    "- ndarray.ndim\n",
    "- ndarray.shape\n",
    "- ndarray.size\n",
    "- ndarray.dtype\n",
    "- ndarray.itemsize\n",
    "- ndarray.nbytes\n",
    "\n",
    "---\n",
    "\n",
    "##### attribute related functions\n",
    "- numpy.shape(array)\n",
    "- ndarray.reshape(shape, order = 'C')\n",
    "- numpy.reshape(array, shape, order = 'C')\n",
    "- ndarray.resize(shape, refcheck = True)\n",
    "- numpy.resize(array, shape)\n",
    "---\n",
    "\n",
    "\n",
    "(\\* ndarray is numpy array object)"
   ]
  },
  {
   "cell_type": "markdown",
   "metadata": {},
   "source": [
    "#### loads numpy module"
   ]
  },
  {
   "cell_type": "code",
   "execution_count": 1,
   "metadata": {},
   "outputs": [],
   "source": [
    "import numpy as np"
   ]
  },
  {
   "cell_type": "markdown",
   "metadata": {},
   "source": [
    "#### array attribute"
   ]
  },
  {
   "cell_type": "code",
   "execution_count": 2,
   "metadata": {},
   "outputs": [
    {
     "name": "stdout",
     "output_type": "stream",
     "text": [
      "dimension:  3 \n",
      "\n",
      "shape:  (2, 3, 4) \n",
      "\n",
      "data type:  int64 \n",
      "\n",
      "item size:  8 \n",
      "\n",
      "nbytes:  192 \n",
      "\n"
     ]
    }
   ],
   "source": [
    "sample = np.ones((2,3,4), dtype = 'i8')\n",
    "\n",
    "# ndim => returns dimension\n",
    "print(\"dimension: \", sample.ndim, '\\n')\n",
    "\n",
    "# shape => returns shape\n",
    "print(\"shape: \", sample.shape, '\\n')\n",
    "\n",
    "# dtype => returns data type\n",
    "print(\"data type: \", sample.dtype, '\\n')\n",
    "\n",
    "#itemsize => returns num of elements\n",
    "print(\"item size: \", sample.itemsize, '\\n')\n",
    "\n",
    "# nbytes => returns total bytes\n",
    "print(\"nbytes: \", sample.nbytes, '\\n')"
   ]
  },
  {
   "cell_type": "markdown",
   "metadata": {},
   "source": [
    "#### attribute related functions"
   ]
  },
  {
   "cell_type": "markdown",
   "metadata": {},
   "source": [
    "###### shape"
   ]
  },
  {
   "cell_type": "code",
   "execution_count": 3,
   "metadata": {},
   "outputs": [
    {
     "name": "stdout",
     "output_type": "stream",
     "text": [
      "shape:  (2, 3, 4) \n",
      "\n"
     ]
    }
   ],
   "source": [
    "# check shape\n",
    "\n",
    "sample = np.ones((2,3,4))\n",
    "print('shape: ', np.shape(sample), '\\n')"
   ]
  },
  {
   "cell_type": "markdown",
   "metadata": {},
   "source": [
    "###### reshape"
   ]
  },
  {
   "cell_type": "code",
   "execution_count": 4,
   "metadata": {},
   "outputs": [
    {
     "name": "stdout",
     "output_type": "stream",
     "text": [
      "pre shape:  (2, 3, 4) \n",
      "\n",
      "reshaped shape:  (6, 4) \n",
      "\n"
     ]
    }
   ],
   "source": [
    "# reshape method 1 - ndarray.reshape\n",
    "\n",
    "sample = np.ones((2,3,4))\n",
    "print(\"pre shape: \", np.shape(sample), '\\n')\n",
    "\n",
    "sample_reshaped = sample.reshape((6,4))\n",
    "print(\"reshaped shape: \", np.shape(sample_reshaped), '\\n')"
   ]
  },
  {
   "cell_type": "code",
   "execution_count": 5,
   "metadata": {},
   "outputs": [
    {
     "name": "stdout",
     "output_type": "stream",
     "text": [
      "pre shape:  (2, 3, 4) \n",
      "\n",
      "reshaped shape:  (6, 4) \n",
      "\n"
     ]
    }
   ],
   "source": [
    "# reshape method 2 - numpy.reshpae\n",
    "\n",
    "sample = np.ones((2,3,4))\n",
    "print(\"pre shape: \", np.shape(sample), '\\n')\n",
    "\n",
    "sample_reshaped = np.reshape(sample, (6,4))\n",
    "print(\"reshaped shape: \", np.shape(sample_reshaped), '\\n')"
   ]
  },
  {
   "cell_type": "code",
   "execution_count": 6,
   "metadata": {},
   "outputs": [
    {
     "name": "stdout",
     "output_type": "stream",
     "text": [
      "[1 1 1 1 1] \n",
      "\n",
      "[[1]\n",
      " [1]\n",
      " [1]\n",
      " [1]\n",
      " [1]] \n",
      "\n"
     ]
    }
   ],
   "source": [
    "# tips\n",
    "\n",
    "# -1 means no consideration\n",
    "sample = np.ones(5, dtype='i8')\n",
    "print(sample, '\\n')\n",
    "\n",
    "sample2 = sample.reshape(-1, 1)\n",
    "print(sample2, '\\n')"
   ]
  },
  {
   "cell_type": "markdown",
   "metadata": {},
   "source": [
    "###### resize"
   ]
  },
  {
   "cell_type": "code",
   "execution_count": 7,
   "metadata": {},
   "outputs": [
    {
     "name": "stdout",
     "output_type": "stream",
     "text": [
      "pre shape:  (2, 3, 4) \n",
      "\n",
      "resized shape:  (6, 4) \n",
      "\n"
     ]
    }
   ],
   "source": [
    "# resize method 1 - ndarray.resize\n",
    "# return type is None !\n",
    "\n",
    "sample = np.ones((2,3,4))\n",
    "print(\"pre shape: \", sample.shape, '\\n')\n",
    "\n",
    "sample.resize((6,4))\n",
    "print(\"resized shape: \", sample.shape, '\\n')"
   ]
  },
  {
   "cell_type": "code",
   "execution_count": 8,
   "metadata": {},
   "outputs": [
    {
     "name": "stdout",
     "output_type": "stream",
     "text": [
      "pre shape:  (2, 3, 4) \n",
      "\n",
      "resized shape:  (6, 4) \n",
      "\n"
     ]
    }
   ],
   "source": [
    "# resize method 2 - numpy.resize\n",
    "\n",
    "sample = np.ones((2,3,4))\n",
    "print(\"pre shape: \", sample.shape, '\\n')\n",
    "\n",
    "sample_reshaped = np.resize(sample, (6,4))\n",
    "print(\"resized shape: \", sample_reshaped.shape, '\\n')"
   ]
  },
  {
   "cell_type": "code",
   "execution_count": 9,
   "metadata": {},
   "outputs": [
    {
     "name": "stdout",
     "output_type": "stream",
     "text": [
      "[1 2 3 4 5 6] \n",
      "\n",
      "[[1 2 3 4 5 6 1 2 3 4 5 6]\n",
      " [1 2 3 4 5 6 1 2 3 4 5 6]] \n",
      "\n"
     ]
    }
   ],
   "source": [
    "# reshape vs resize\n",
    "# reshape method must fit pre shape and post shape\n",
    "# resize method will fill array with specific num\n",
    "\n",
    "sample = np.array([1,2,3,4,5,6])\n",
    "print(sample, '\\n')\n",
    "\n",
    "sample2 = np.resize(sample, (2, 12))\n",
    "print(sample2, '\\n')"
   ]
  }
 ],
 "metadata": {
  "kernelspec": {
   "display_name": "Python 3",
   "language": "python",
   "name": "python3"
  },
  "language_info": {
   "codemirror_mode": {
    "name": "ipython",
    "version": 3
   },
   "file_extension": ".py",
   "mimetype": "text/x-python",
   "name": "python",
   "nbconvert_exporter": "python",
   "pygments_lexer": "ipython3",
   "version": "3.6.7"
  }
 },
 "nbformat": 4,
 "nbformat_minor": 2
}
